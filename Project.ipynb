{
  "nbformat": 4,
  "nbformat_minor": 0,
  "metadata": {
    "colab": {
      "name": "Project.ipynb",
      "provenance": []
    },
    "kernelspec": {
      "name": "python3",
      "display_name": "Python 3"
    }
  },
  "cells": [
    {
      "cell_type": "code",
      "metadata": {
        "id": "ajaA-bQYdbvc",
        "colab_type": "code",
        "colab": {
          "base_uri": "https://localhost:8080/",
          "height": 309
        },
        "outputId": "35934888-cad7-4560-c254-5c47ba7ee942"
      },
      "source": [
        "pip install pytelegrambotapi"
      ],
      "execution_count": 11,
      "outputs": [
        {
          "output_type": "stream",
          "text": [
            "Collecting pytelegrambotapi\n",
            "\u001b[?25l  Downloading https://files.pythonhosted.org/packages/4d/5f/41f3de857ac49c11a7784cfc9b042214483a23baf6abab738ab374eeefe4/pyTelegramBotAPI-3.7.0.tar.gz (69kB)\n",
            "\r\u001b[K     |████▊                           | 10kB 19.6MB/s eta 0:00:01\r\u001b[K     |█████████▍                      | 20kB 1.8MB/s eta 0:00:01\r\u001b[K     |██████████████                  | 30kB 2.3MB/s eta 0:00:01\r\u001b[K     |██████████████████▊             | 40kB 1.7MB/s eta 0:00:01\r\u001b[K     |███████████████████████▌        | 51kB 1.9MB/s eta 0:00:01\r\u001b[K     |████████████████████████████▏   | 61kB 2.2MB/s eta 0:00:01\r\u001b[K     |████████████████████████████████| 71kB 2.1MB/s \n",
            "\u001b[?25hRequirement already satisfied: requests in /usr/local/lib/python3.6/dist-packages (from pytelegrambotapi) (2.21.0)\n",
            "Requirement already satisfied: six in /usr/local/lib/python3.6/dist-packages (from pytelegrambotapi) (1.12.0)\n",
            "Requirement already satisfied: idna<2.9,>=2.5 in /usr/local/lib/python3.6/dist-packages (from requests->pytelegrambotapi) (2.8)\n",
            "Requirement already satisfied: urllib3<1.25,>=1.21.1 in /usr/local/lib/python3.6/dist-packages (from requests->pytelegrambotapi) (1.24.3)\n",
            "Requirement already satisfied: certifi>=2017.4.17 in /usr/local/lib/python3.6/dist-packages (from requests->pytelegrambotapi) (2020.4.5.1)\n",
            "Requirement already satisfied: chardet<3.1.0,>=3.0.2 in /usr/local/lib/python3.6/dist-packages (from requests->pytelegrambotapi) (3.0.4)\n",
            "Building wheels for collected packages: pytelegrambotapi\n",
            "  Building wheel for pytelegrambotapi (setup.py) ... \u001b[?25l\u001b[?25hdone\n",
            "  Created wheel for pytelegrambotapi: filename=pyTelegramBotAPI-3.7.0-cp36-none-any.whl size=50347 sha256=80dc2dbf83dbc63b6cf7291171854641171ccc554cc06a7fc00f428913f4cbfe\n",
            "  Stored in directory: /root/.cache/pip/wheels/48/d5/5b/61aaed368818013983556c076a7d3132b33cea219811a1a6eb\n",
            "Successfully built pytelegrambotapi\n",
            "Installing collected packages: pytelegrambotapi\n",
            "Successfully installed pytelegrambotapi-3.7.0\n"
          ],
          "name": "stdout"
        }
      ]
    },
    {
      "cell_type": "code",
      "metadata": {
        "id": "ugvew49FdiAJ",
        "colab_type": "code",
        "colab": {}
      },
      "source": [
        ""
      ],
      "execution_count": 0,
      "outputs": []
    },
    {
      "cell_type": "code",
      "metadata": {
        "id": "KkdaioNxBqHI",
        "colab_type": "code",
        "colab": {}
      },
      "source": [
        "import tensorflow\n",
        "from tensorflow.keras.models import Sequential\n",
        "from tensorflow.keras.layers import Conv2D\n",
        "from tensorflow.keras.layers import Flatten\n",
        "from tensorflow.keras.layers import Dense\n",
        "from tensorflow.keras.layers import MaxPooling2D\n",
        "from tensorflow.keras.layers import Dropout\n",
        "\n",
        "\n",
        "\n",
        "classifier = Sequential()\n",
        "\n",
        "#Adding Conv layers to NN\n",
        "classifier.add(Conv2D(48,(3,3), input_shape = (86, 86, 3), activation = 'relu'))\n",
        "classifier.add(MaxPooling2D(pool_size = (3, 3)))\n",
        "\n",
        "classifier.add(Conv2D(48,(3,3), activation = 'relu'))\n",
        "classifier.add(MaxPooling2D(pool_size = (3, 3)))\n",
        "\n",
        "classifier.add(Flatten())\n",
        "\n",
        "#Adding fully connected layers\n",
        "classifier.add(Dense(units = 92, activation = 'relu'))\n",
        "classifier.add(Dropout(0.3))\n",
        "classifier.add(Dense(units = 32, activation = 'relu'))\n",
        "classifier.add(Dropout(0.3))\n",
        "classifier.add(Dense(units = 1, activation = 'sigmoid'))\n",
        "\n",
        "classifier.compile(optimizer = 'adam', loss = 'binary_crossentropy', metrics = ['accuracy'])"
      ],
      "execution_count": 0,
      "outputs": []
    },
    {
      "cell_type": "code",
      "metadata": {
        "id": "0Lm_5EMBRPCi",
        "colab_type": "code",
        "colab": {
          "base_uri": "https://localhost:8080/",
          "height": 34
        },
        "outputId": "7ac48825-48b2-409a-922a-8744450124b7"
      },
      "source": [
        "classifier.load_weights('bclassifier.h5')\n",
        "print('loaded model weights')"
      ],
      "execution_count": 7,
      "outputs": [
        {
          "output_type": "stream",
          "text": [
            "loaded model weights\n"
          ],
          "name": "stdout"
        }
      ]
    },
    {
      "cell_type": "code",
      "metadata": {
        "id": "98paKUpbSiT2",
        "colab_type": "code",
        "colab": {
          "base_uri": "https://localhost:8080/",
          "height": 34
        },
        "outputId": "9f151cb8-13e7-4668-d788-d1e5f3cc9ee4"
      },
      "source": [
        "#Checking model perfomance by photo from internet\n",
        "import numpy as np\n",
        "from keras.preprocessing import image\n",
        "\n",
        "photo = 'teen1'\n",
        "test_image = image.load_img('/content/%s.jpg' % photo, target_size = (86,86))\n",
        "test_image = image.img_to_array(test_image)\n",
        "test_image = np.expand_dims(test_image, axis = 0)\n",
        "answer1 = classifier.predict(test_image)\n",
        "\n",
        "\n",
        "if answer1[0][0] == 0:\n",
        "    print('old')\n",
        "    history[photo] = 'old'\n",
        "else:\n",
        "    print('young')\n",
        "\n",
        "    \n",
        "    history[photo] = 'young'\n",
        "\n",
        "         #for 'old' = 0, 'young = 1"
      ],
      "execution_count": 9,
      "outputs": [
        {
          "output_type": "stream",
          "text": [
            "young\n"
          ],
          "name": "stdout"
        }
      ]
    },
    {
      "cell_type": "code",
      "metadata": {
        "id": "FVWIlS4wRWlo",
        "colab_type": "code",
        "colab": {}
      },
      "source": [
        "#Training the model\n",
        "from keras.preprocessing.image import ImageDataGenerator\n",
        "\n",
        "train_datagen = ImageDataGenerator(rescale = 1./255,\n",
        "                                   shear_range = 0.2,\n",
        "                                   zoom_range = 0.2,\n",
        "                                   horizontal_flip = True)\n",
        "\n",
        "test_datagen = ImageDataGenerator(rescale = 1./255)\n",
        "\n",
        "\n",
        "training_set = train_datagen.flow_from_directory('/content/drive/My Drive/train/train/train_set',\n",
        "                                                 target_size = (86, 86),\n",
        "                                                 batch_size = 32,\n",
        "                                                 class_mode = 'binary')\n",
        "\n",
        "test_set = test_datagen.flow_from_directory('/content/drive/My Drive/data/train',\n",
        "                                            target_size = (86, 86),\n",
        "                                            batch_size = 32,\n",
        "                                            class_mode = 'binary')\n",
        "\n",
        "classifier.fit_generator(training_set,\n",
        "                         steps_per_epoch = 625,\n",
        "                         epochs = 4,\n",
        "                         validation_data = test_set,\n",
        "                         validation_steps = 10)\n",
        "\n",
        "\n",
        "history = {}\n",
        "\n",
        "#Checking model perfomance by photo from internet\n",
        "import numpy as np\n",
        "from keras.preprocessing import image\n",
        "\n",
        "photo = 'teen1'\n",
        "test_image = image.load_img('/content/%s.jpg' % photo, target_size = (86,86))\n",
        "test_image = image.img_to_array(test_image)\n",
        "test_image = np.expand_dims(test_image, axis = 0)\n",
        "answer1 = classifier.predict(test_image)\n",
        "\n",
        "\n",
        "if answer1[0][0] == 0:\n",
        "    print('old')\n",
        "    history[photo] = 'old'\n",
        "else:\n",
        "    print('young')\n",
        "\n",
        "    \n",
        "    history[photo] = 'young'\n",
        "\n",
        "         #for 'old' = 0, 'young = 1"
      ],
      "execution_count": 0,
      "outputs": []
    },
    {
      "cell_type": "code",
      "metadata": {
        "id": "s3t_zzCAbHvo",
        "colab_type": "code",
        "colab": {
          "base_uri": "https://localhost:8080/",
          "height": 598
        },
        "outputId": "c3858621-d079-4e21-ee55-73f418fde5af"
      },
      "source": [
        "#telegram bot code \n",
        "#run localy here the Username @ProjectML_bot\n",
        "\n",
        "\n",
        "import numpy as np\n",
        "from keras.preprocessing import image\n",
        "import telebot\n",
        "import tensorflow\n",
        "from tensorflow.keras.models import Sequential\n",
        "from tensorflow.keras.layers import Conv2D\n",
        "from tensorflow.keras.layers import Flatten\n",
        "from tensorflow.keras.layers import Dense\n",
        "from tensorflow.keras.layers import MaxPooling2D\n",
        "from tensorflow.keras.layers import Dropout\n",
        "import numpy as np\n",
        "from keras.preprocessing import image\n",
        "from pathlib import Path\n",
        "\n",
        "import os\n",
        "\n",
        "\n",
        "\n",
        "classifier = Sequential()\n",
        "\n",
        "#Adding Conv layers to NN\n",
        "classifier.add(Conv2D(48,(3,3), input_shape = (86, 86, 3), activation = 'relu'))\n",
        "classifier.add(MaxPooling2D(pool_size = (3, 3)))\n",
        "\n",
        "classifier.add(Conv2D(48,(3,3), activation = 'relu'))\n",
        "classifier.add(MaxPooling2D(pool_size = (3, 3)))\n",
        "\n",
        "classifier.add(Flatten())\n",
        "\n",
        "#Adding fully connected layers\n",
        "classifier.add(Dense(units = 92, activation = 'relu'))\n",
        "classifier.add(Dropout(0.3))\n",
        "classifier.add(Dense(units = 32, activation = 'relu'))\n",
        "classifier.add(Dropout(0.3))\n",
        "classifier.add(Dense(units = 1, activation = 'sigmoid'))\n",
        "\n",
        "classifier.load_weights('bclassifier.h5')\n",
        "print('loaded model weights')\n",
        "\n",
        "classifier.compile(optimizer = 'adam', loss = 'binary_crossentropy', metrics = ['accuracy'])\n",
        "bot = telebot.TeleBot('1123439556:AAEyXXE9NMmYfxB-WVi4XHKN-zzcVsJ7PIE')\n",
        "@bot.message_handler(commands=['start'])\n",
        "def start_message(message):\n",
        "    bot.send_message(message.chat.id, 'Hi do you want to know are you old or young /start')\n",
        "\n",
        "@bot.message_handler(content_types=['photo'])\n",
        "def handle_docs_photo(message):\n",
        " file_info = bot.get_file(message.photo[len(message.photo)-1].file_id)\n",
        " downloaded_file = bot.download_file(file_info.file_path)\n",
        " src='/content/'+file_info.file_path;\n",
        " with open(src, 'wb') as new_file:\n",
        "  new_file.write(downloaded_file)\n",
        "\n",
        "    \n",
        "  directory = '/content/photos'\n",
        "  files = os.listdir(directory)\n",
        "  images = filter(lambda x: x.endswith('.jpg'), files)\n",
        "  photo = next(images)\n",
        "  test_image = image.load_img('/content/photos/%s' % photo, target_size = (86,86))\n",
        "  test_image = image.img_to_array(test_image)\n",
        "  test_image = np.expand_dims(test_image, axis = 0)\n",
        "  answer1 = classifier.predict(test_image)\n",
        "\n",
        "\n",
        "  if answer1[0][0] == 0:\n",
        "      bot.reply_to(message, \"old\")\n",
        "      print('old')\n",
        "      for f in Path('/content/photos').glob('*.jpg'):\n",
        "        try:\n",
        "            f.unlink()\n",
        "        except OSError as e:\n",
        "            print(\"Error: %s : %s\" % (f, e.strerror))\n",
        "      \n",
        "      #file_path = '/content/photos/file_0.jpg'\n",
        "      #os.remove(file_path)   \n",
        "\n",
        "      history[photo] = 'old' \n",
        "  else:\n",
        "      bot.reply_to(message, \"young\")\n",
        "      print('young')\n",
        "      for f in Path('/content/photos').glob('*.jpg'):\n",
        "        try:\n",
        "            f.unlink()\n",
        "        except OSError as e:\n",
        "            print(\"Error: %s : %s\" % (f, e.strerror))\n",
        "      \n",
        "      \n",
        "      \n",
        "      #file_path = '/content/photos/file_0.jpg'\n",
        "      #os.remove(file_path)  \n",
        "\n",
        "    \n",
        "      history[photo] = 'young'\n",
        "\n",
        "         #for 'old' = 0, 'young = 1\n",
        "   \n",
        "   \n",
        " \n",
        "bot.polling()"
      ],
      "execution_count": 48,
      "outputs": [
        {
          "output_type": "stream",
          "text": [
            "loaded model weights\n"
          ],
          "name": "stdout"
        },
        {
          "output_type": "stream",
          "text": [
            "2020-04-29 20:45:57,983 (util.py:66 PollingThread) ERROR - TeleBot: \"ApiException occurred, args=('A request to the Telegram API was unsuccessful. The server returned HTTP 409 Conflict. Response body:\\n[b\\'{\"ok\":false,\"error_code\":409,\"description\":\"Conflict: terminated by other getUpdates request; make sure that only one bot instance is running\"}\\']',)\n",
            "Traceback (most recent call last):\n",
            "  File \"/usr/local/lib/python3.6/dist-packages/telebot/util.py\", line 60, in run\n",
            "    task(*args, **kwargs)\n",
            "  File \"/usr/local/lib/python3.6/dist-packages/telebot/__init__.py\", line 281, in __retrieve_updates\n",
            "    updates = self.get_updates(offset=(self.last_update_id + 1), timeout=timeout)\n",
            "  File \"/usr/local/lib/python3.6/dist-packages/telebot/__init__.py\", line 251, in get_updates\n",
            "    json_updates = apihelper.get_updates(self.token, offset, limit, timeout, allowed_updates)\n",
            "  File \"/usr/local/lib/python3.6/dist-packages/telebot/apihelper.py\", line 199, in get_updates\n",
            "    return _make_request(token, method_url, params=payload)\n",
            "  File \"/usr/local/lib/python3.6/dist-packages/telebot/apihelper.py\", line 65, in _make_request\n",
            "    return _check_result(method_name, result)['result']\n",
            "  File \"/usr/local/lib/python3.6/dist-packages/telebot/apihelper.py\", line 84, in _check_result\n",
            "    raise ApiException(msg, method_name, result)\n",
            "telebot.apihelper.ApiException: A request to the Telegram API was unsuccessful. The server returned HTTP 409 Conflict. Response body:\n",
            "[b'{\"ok\":false,\"error_code\":409,\"description\":\"Conflict: terminated by other getUpdates request; make sure that only one bot instance is running\"}']\n",
            "\"\n"
          ],
          "name": "stderr"
        },
        {
          "output_type": "stream",
          "text": [
            "young\n",
            "young\n",
            "young\n",
            "young\n",
            "old\n",
            "old\n",
            "old\n",
            "old\n",
            "old\n",
            "young\n",
            "old\n",
            "young\n",
            "young\n",
            "old\n",
            "young\n"
          ],
          "name": "stdout"
        }
      ]
    }
  ]
}